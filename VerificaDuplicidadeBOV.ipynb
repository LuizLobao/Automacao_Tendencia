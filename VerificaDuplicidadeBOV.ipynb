{
 "cells": [
  {
   "cell_type": "code",
   "execution_count": 1,
   "metadata": {},
   "outputs": [],
   "source": [
    "import pandas as pd\n",
    "#import plotly.express as px\n",
    "\n",
    "data_arquivos = '20230914'"
   ]
  },
  {
   "cell_type": "markdown",
   "metadata": {},
   "source": [
    "# BOV 6163 - GROSS NOVA FIBRA"
   ]
  },
  {
   "cell_type": "code",
   "execution_count": 2,
   "metadata": {},
   "outputs": [
    {
     "name": "stdout",
     "output_type": "stream",
     "text": [
      "   Contagem  check\n",
      "0         1  17051\n"
     ]
    }
   ],
   "source": [
    "arquivo6163 = f'C:\\JETL\\BASE\\old\\BOV_6163_{data_arquivos}.TXT'\n",
    "df_6163 = pd.read_csv(arquivo6163, sep=';', encoding='ANSI')\n",
    "\n",
    "contagem_codigos = df_6163.groupby('cd_item_ordem').size().reset_index(name='Contagem')\n",
    "contagem_codigos = contagem_codigos.sort_values(by='Contagem', ascending=False)\n",
    "\n",
    "check = contagem_codigos.groupby('Contagem').size().reset_index(name='check')\n",
    "print(check)"
   ]
  },
  {
   "cell_type": "markdown",
   "metadata": {},
   "source": [
    "# BOV 6162 - VL NOVA FIBRA"
   ]
  },
  {
   "cell_type": "code",
   "execution_count": 3,
   "metadata": {},
   "outputs": [
    {
     "name": "stdout",
     "output_type": "stream",
     "text": [
      "   Contagem  check\n",
      "0         1  26088\n"
     ]
    }
   ],
   "source": [
    "arquivo6162 = f'C:\\JETL\\BASE\\old\\BOV_6162_{data_arquivos}.TXT'\n",
    "df_6162 = pd.read_csv(arquivo6162, sep=';', encoding='ANSI', quotechar='\"', low_memory=False)\n",
    "\n",
    "contagem_codigos = df_6162.groupby('cd_item_ordem').size().reset_index(name='Contagem')\n",
    "contagem_codigos = contagem_codigos.sort_values(by='Contagem', ascending=False)\n",
    "\n",
    "\n",
    "check = contagem_codigos.groupby('Contagem').size().reset_index(name='check')\n",
    "\n",
    "print(check)"
   ]
  },
  {
   "cell_type": "markdown",
   "metadata": {},
   "source": [
    "# BOV 1059 - VL LEGADO"
   ]
  },
  {
   "cell_type": "code",
   "execution_count": 4,
   "metadata": {},
   "outputs": [
    {
     "name": "stdout",
     "output_type": "stream",
     "text": [
      "   Contagem  check\n",
      "0         1  35526\n",
      "1         2    215\n",
      "2         3      1\n"
     ]
    }
   ],
   "source": [
    "arquivo1059 = f'C:\\JETL\\BASE\\old\\BOV_1059_{data_arquivos}.TXT'\n",
    "df_1059 = pd.read_csv(arquivo1059, sep=';', encoding='ANSI', low_memory=False)\n",
    "\n",
    "contagem_codigos = df_1059.groupby('ACESSO_GPON').size().reset_index(name='Contagem')\n",
    "contagem_codigos = contagem_codigos.sort_values(by='Contagem', ascending=False)\n",
    "\n",
    "\n",
    "check = contagem_codigos.groupby('Contagem').size().reset_index(name='check')\n",
    "\n",
    "print(check)\n"
   ]
  },
  {
   "cell_type": "markdown",
   "metadata": {},
   "source": [
    "# BOV 1065 - GROSS LEGADO"
   ]
  },
  {
   "cell_type": "code",
   "execution_count": 5,
   "metadata": {},
   "outputs": [
    {
     "name": "stdout",
     "output_type": "stream",
     "text": [
      "   Contagem  check\n",
      "0         1  25384\n"
     ]
    }
   ],
   "source": [
    "arquivo1065 = f'C:\\JETL\\BASE\\old\\BOV_1065_{data_arquivos}.TXT'\n",
    "df_1065 = pd.read_csv(arquivo1065, sep=';', encoding='ANSI', low_memory=False)\n",
    "\n",
    "contagem_codigos = df_1065.groupby('ACESSO_GPON').size().reset_index(name='Contagem')\n",
    "contagem_codigos = contagem_codigos.sort_values(by='Contagem', ascending=False)\n",
    "\n",
    "\n",
    "check = contagem_codigos.groupby('Contagem').size().reset_index(name='check')\n",
    "\n",
    "print(check)"
   ]
  },
  {
   "cell_type": "code",
   "execution_count": null,
   "metadata": {},
   "outputs": [],
   "source": []
  }
 ],
 "metadata": {
  "kernelspec": {
   "display_name": "Python 3",
   "language": "python",
   "name": "python3"
  },
  "language_info": {
   "codemirror_mode": {
    "name": "ipython",
    "version": 3
   },
   "file_extension": ".py",
   "mimetype": "text/x-python",
   "name": "python",
   "nbconvert_exporter": "python",
   "pygments_lexer": "ipython3",
   "version": "3.11.3"
  }
 },
 "nbformat": 4,
 "nbformat_minor": 2
}
